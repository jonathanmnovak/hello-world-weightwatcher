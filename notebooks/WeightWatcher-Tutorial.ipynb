{
 "cells": [
  {
   "cell_type": "code",
   "execution_count": 4,
   "id": "d289df2e",
   "metadata": {},
   "outputs": [],
   "source": [
    "import torch\n",
    "import weightwatcher as ww\n",
    "import transformers\n",
    "from transformers import OpenAIGPTModel, GPT2Model\n",
    "import pandas as pd\n",
    "import matplotlib\n",
    "import matplotlib.pyplot as plt\n",
    "%matplotlib inline"
   ]
  },
  {
   "cell_type": "markdown",
   "id": "929a732c",
   "metadata": {},
   "source": [
    "# Load Pre-Trained Models"
   ]
  },
  {
   "cell_type": "code",
   "execution_count": 5,
   "id": "be14efb2",
   "metadata": {},
   "outputs": [
    {
     "name": "stderr",
     "output_type": "stream",
     "text": [
      "INFO:filelock:Lock 140625151629520 acquired on /Users/jonathan_novak/.cache/huggingface/transformers/bebb46f5735701bc248ef9faa26f12577944fa7fc8e9be1a774b94d4cb8b79b6.ba6f10a5446f364b92311c09e55e49aa27024a4aeefc1ea50fd733b77bcd997d.lock\n"
     ]
    },
    {
     "data": {
      "application/vnd.jupyter.widget-view+json": {
       "model_id": "8ea978a92b3f4db4ba662c343c99d5c0",
       "version_major": 2,
       "version_minor": 0
      },
      "text/plain": [
       "Downloading:   0%|          | 0.00/656 [00:00<?, ?B/s]"
      ]
     },
     "metadata": {},
     "output_type": "display_data"
    },
    {
     "name": "stderr",
     "output_type": "stream",
     "text": [
      "INFO:filelock:Lock 140625151629520 released on /Users/jonathan_novak/.cache/huggingface/transformers/bebb46f5735701bc248ef9faa26f12577944fa7fc8e9be1a774b94d4cb8b79b6.ba6f10a5446f364b92311c09e55e49aa27024a4aeefc1ea50fd733b77bcd997d.lock\n",
      "INFO:filelock:Lock 140625154358608 acquired on /Users/jonathan_novak/.cache/huggingface/transformers/3e867ce638da986403594a5acbb39846ecb9c3b360a3b526348dd54b06938e55.93527980a112896731f93175b7c1cbc6b0fd771fad85fcc777ff5d49d249782e.lock\n"
     ]
    },
    {
     "data": {
      "application/vnd.jupyter.widget-view+json": {
       "model_id": "fc17e713919d4280b1ccab60611e0e46",
       "version_major": 2,
       "version_minor": 0
      },
      "text/plain": [
       "Downloading:   0%|          | 0.00/479M [00:00<?, ?B/s]"
      ]
     },
     "metadata": {},
     "output_type": "display_data"
    },
    {
     "name": "stderr",
     "output_type": "stream",
     "text": [
      "INFO:filelock:Lock 140625154358608 released on /Users/jonathan_novak/.cache/huggingface/transformers/3e867ce638da986403594a5acbb39846ecb9c3b360a3b526348dd54b06938e55.93527980a112896731f93175b7c1cbc6b0fd771fad85fcc777ff5d49d249782e.lock\n",
      "INFO:filelock:Lock 140624286445200 acquired on /Users/jonathan_novak/.cache/huggingface/transformers/fc674cd6907b4c9e933cb42d67662436b89fa9540a1f40d7c919d0109289ad01.7d2e0efa5ca20cef4fb199382111e9d3ad96fd77b849e1d4bed13a66e1336f51.lock\n"
     ]
    },
    {
     "data": {
      "application/vnd.jupyter.widget-view+json": {
       "model_id": "16e49e6bb2ce424aa9cd0837dac26ec7",
       "version_major": 2,
       "version_minor": 0
      },
      "text/plain": [
       "Downloading:   0%|          | 0.00/665 [00:00<?, ?B/s]"
      ]
     },
     "metadata": {},
     "output_type": "display_data"
    },
    {
     "name": "stderr",
     "output_type": "stream",
     "text": [
      "INFO:filelock:Lock 140624286445200 released on /Users/jonathan_novak/.cache/huggingface/transformers/fc674cd6907b4c9e933cb42d67662436b89fa9540a1f40d7c919d0109289ad01.7d2e0efa5ca20cef4fb199382111e9d3ad96fd77b849e1d4bed13a66e1336f51.lock\n",
      "INFO:filelock:Lock 140624286444816 acquired on /Users/jonathan_novak/.cache/huggingface/transformers/752929ace039baa8ef70fe21cdf9ab9445773d20e733cf693d667982e210837e.323c769945a351daa25546176f8208b3004b6f563438a7603e7932bae9025925.lock\n"
     ]
    },
    {
     "data": {
      "application/vnd.jupyter.widget-view+json": {
       "model_id": "c2a0675173b94b5ea362bedd2fe53327",
       "version_major": 2,
       "version_minor": 0
      },
      "text/plain": [
       "Downloading:   0%|          | 0.00/548M [00:00<?, ?B/s]"
      ]
     },
     "metadata": {},
     "output_type": "display_data"
    },
    {
     "name": "stderr",
     "output_type": "stream",
     "text": [
      "INFO:filelock:Lock 140624286444816 released on /Users/jonathan_novak/.cache/huggingface/transformers/752929ace039baa8ef70fe21cdf9ab9445773d20e733cf693d667982e210837e.323c769945a351daa25546176f8208b3004b6f563438a7603e7932bae9025925.lock\n"
     ]
    },
    {
     "data": {
      "text/plain": [
       "GPT2Model(\n",
       "  (wte): Embedding(50257, 768)\n",
       "  (wpe): Embedding(1024, 768)\n",
       "  (drop): Dropout(p=0.1, inplace=False)\n",
       "  (h): ModuleList(\n",
       "    (0): GPT2Block(\n",
       "      (ln_1): LayerNorm((768,), eps=1e-05, elementwise_affine=True)\n",
       "      (attn): GPT2Attention(\n",
       "        (c_attn): Conv1D()\n",
       "        (c_proj): Conv1D()\n",
       "        (attn_dropout): Dropout(p=0.1, inplace=False)\n",
       "        (resid_dropout): Dropout(p=0.1, inplace=False)\n",
       "      )\n",
       "      (ln_2): LayerNorm((768,), eps=1e-05, elementwise_affine=True)\n",
       "      (mlp): GPT2MLP(\n",
       "        (c_fc): Conv1D()\n",
       "        (c_proj): Conv1D()\n",
       "        (dropout): Dropout(p=0.1, inplace=False)\n",
       "      )\n",
       "    )\n",
       "    (1): GPT2Block(\n",
       "      (ln_1): LayerNorm((768,), eps=1e-05, elementwise_affine=True)\n",
       "      (attn): GPT2Attention(\n",
       "        (c_attn): Conv1D()\n",
       "        (c_proj): Conv1D()\n",
       "        (attn_dropout): Dropout(p=0.1, inplace=False)\n",
       "        (resid_dropout): Dropout(p=0.1, inplace=False)\n",
       "      )\n",
       "      (ln_2): LayerNorm((768,), eps=1e-05, elementwise_affine=True)\n",
       "      (mlp): GPT2MLP(\n",
       "        (c_fc): Conv1D()\n",
       "        (c_proj): Conv1D()\n",
       "        (dropout): Dropout(p=0.1, inplace=False)\n",
       "      )\n",
       "    )\n",
       "    (2): GPT2Block(\n",
       "      (ln_1): LayerNorm((768,), eps=1e-05, elementwise_affine=True)\n",
       "      (attn): GPT2Attention(\n",
       "        (c_attn): Conv1D()\n",
       "        (c_proj): Conv1D()\n",
       "        (attn_dropout): Dropout(p=0.1, inplace=False)\n",
       "        (resid_dropout): Dropout(p=0.1, inplace=False)\n",
       "      )\n",
       "      (ln_2): LayerNorm((768,), eps=1e-05, elementwise_affine=True)\n",
       "      (mlp): GPT2MLP(\n",
       "        (c_fc): Conv1D()\n",
       "        (c_proj): Conv1D()\n",
       "        (dropout): Dropout(p=0.1, inplace=False)\n",
       "      )\n",
       "    )\n",
       "    (3): GPT2Block(\n",
       "      (ln_1): LayerNorm((768,), eps=1e-05, elementwise_affine=True)\n",
       "      (attn): GPT2Attention(\n",
       "        (c_attn): Conv1D()\n",
       "        (c_proj): Conv1D()\n",
       "        (attn_dropout): Dropout(p=0.1, inplace=False)\n",
       "        (resid_dropout): Dropout(p=0.1, inplace=False)\n",
       "      )\n",
       "      (ln_2): LayerNorm((768,), eps=1e-05, elementwise_affine=True)\n",
       "      (mlp): GPT2MLP(\n",
       "        (c_fc): Conv1D()\n",
       "        (c_proj): Conv1D()\n",
       "        (dropout): Dropout(p=0.1, inplace=False)\n",
       "      )\n",
       "    )\n",
       "    (4): GPT2Block(\n",
       "      (ln_1): LayerNorm((768,), eps=1e-05, elementwise_affine=True)\n",
       "      (attn): GPT2Attention(\n",
       "        (c_attn): Conv1D()\n",
       "        (c_proj): Conv1D()\n",
       "        (attn_dropout): Dropout(p=0.1, inplace=False)\n",
       "        (resid_dropout): Dropout(p=0.1, inplace=False)\n",
       "      )\n",
       "      (ln_2): LayerNorm((768,), eps=1e-05, elementwise_affine=True)\n",
       "      (mlp): GPT2MLP(\n",
       "        (c_fc): Conv1D()\n",
       "        (c_proj): Conv1D()\n",
       "        (dropout): Dropout(p=0.1, inplace=False)\n",
       "      )\n",
       "    )\n",
       "    (5): GPT2Block(\n",
       "      (ln_1): LayerNorm((768,), eps=1e-05, elementwise_affine=True)\n",
       "      (attn): GPT2Attention(\n",
       "        (c_attn): Conv1D()\n",
       "        (c_proj): Conv1D()\n",
       "        (attn_dropout): Dropout(p=0.1, inplace=False)\n",
       "        (resid_dropout): Dropout(p=0.1, inplace=False)\n",
       "      )\n",
       "      (ln_2): LayerNorm((768,), eps=1e-05, elementwise_affine=True)\n",
       "      (mlp): GPT2MLP(\n",
       "        (c_fc): Conv1D()\n",
       "        (c_proj): Conv1D()\n",
       "        (dropout): Dropout(p=0.1, inplace=False)\n",
       "      )\n",
       "    )\n",
       "    (6): GPT2Block(\n",
       "      (ln_1): LayerNorm((768,), eps=1e-05, elementwise_affine=True)\n",
       "      (attn): GPT2Attention(\n",
       "        (c_attn): Conv1D()\n",
       "        (c_proj): Conv1D()\n",
       "        (attn_dropout): Dropout(p=0.1, inplace=False)\n",
       "        (resid_dropout): Dropout(p=0.1, inplace=False)\n",
       "      )\n",
       "      (ln_2): LayerNorm((768,), eps=1e-05, elementwise_affine=True)\n",
       "      (mlp): GPT2MLP(\n",
       "        (c_fc): Conv1D()\n",
       "        (c_proj): Conv1D()\n",
       "        (dropout): Dropout(p=0.1, inplace=False)\n",
       "      )\n",
       "    )\n",
       "    (7): GPT2Block(\n",
       "      (ln_1): LayerNorm((768,), eps=1e-05, elementwise_affine=True)\n",
       "      (attn): GPT2Attention(\n",
       "        (c_attn): Conv1D()\n",
       "        (c_proj): Conv1D()\n",
       "        (attn_dropout): Dropout(p=0.1, inplace=False)\n",
       "        (resid_dropout): Dropout(p=0.1, inplace=False)\n",
       "      )\n",
       "      (ln_2): LayerNorm((768,), eps=1e-05, elementwise_affine=True)\n",
       "      (mlp): GPT2MLP(\n",
       "        (c_fc): Conv1D()\n",
       "        (c_proj): Conv1D()\n",
       "        (dropout): Dropout(p=0.1, inplace=False)\n",
       "      )\n",
       "    )\n",
       "    (8): GPT2Block(\n",
       "      (ln_1): LayerNorm((768,), eps=1e-05, elementwise_affine=True)\n",
       "      (attn): GPT2Attention(\n",
       "        (c_attn): Conv1D()\n",
       "        (c_proj): Conv1D()\n",
       "        (attn_dropout): Dropout(p=0.1, inplace=False)\n",
       "        (resid_dropout): Dropout(p=0.1, inplace=False)\n",
       "      )\n",
       "      (ln_2): LayerNorm((768,), eps=1e-05, elementwise_affine=True)\n",
       "      (mlp): GPT2MLP(\n",
       "        (c_fc): Conv1D()\n",
       "        (c_proj): Conv1D()\n",
       "        (dropout): Dropout(p=0.1, inplace=False)\n",
       "      )\n",
       "    )\n",
       "    (9): GPT2Block(\n",
       "      (ln_1): LayerNorm((768,), eps=1e-05, elementwise_affine=True)\n",
       "      (attn): GPT2Attention(\n",
       "        (c_attn): Conv1D()\n",
       "        (c_proj): Conv1D()\n",
       "        (attn_dropout): Dropout(p=0.1, inplace=False)\n",
       "        (resid_dropout): Dropout(p=0.1, inplace=False)\n",
       "      )\n",
       "      (ln_2): LayerNorm((768,), eps=1e-05, elementwise_affine=True)\n",
       "      (mlp): GPT2MLP(\n",
       "        (c_fc): Conv1D()\n",
       "        (c_proj): Conv1D()\n",
       "        (dropout): Dropout(p=0.1, inplace=False)\n",
       "      )\n",
       "    )\n",
       "    (10): GPT2Block(\n",
       "      (ln_1): LayerNorm((768,), eps=1e-05, elementwise_affine=True)\n",
       "      (attn): GPT2Attention(\n",
       "        (c_attn): Conv1D()\n",
       "        (c_proj): Conv1D()\n",
       "        (attn_dropout): Dropout(p=0.1, inplace=False)\n",
       "        (resid_dropout): Dropout(p=0.1, inplace=False)\n",
       "      )\n",
       "      (ln_2): LayerNorm((768,), eps=1e-05, elementwise_affine=True)\n",
       "      (mlp): GPT2MLP(\n",
       "        (c_fc): Conv1D()\n",
       "        (c_proj): Conv1D()\n",
       "        (dropout): Dropout(p=0.1, inplace=False)\n",
       "      )\n",
       "    )\n",
       "    (11): GPT2Block(\n",
       "      (ln_1): LayerNorm((768,), eps=1e-05, elementwise_affine=True)\n",
       "      (attn): GPT2Attention(\n",
       "        (c_attn): Conv1D()\n",
       "        (c_proj): Conv1D()\n",
       "        (attn_dropout): Dropout(p=0.1, inplace=False)\n",
       "        (resid_dropout): Dropout(p=0.1, inplace=False)\n",
       "      )\n",
       "      (ln_2): LayerNorm((768,), eps=1e-05, elementwise_affine=True)\n",
       "      (mlp): GPT2MLP(\n",
       "        (c_fc): Conv1D()\n",
       "        (c_proj): Conv1D()\n",
       "        (dropout): Dropout(p=0.1, inplace=False)\n",
       "      )\n",
       "    )\n",
       "  )\n",
       "  (ln_f): LayerNorm((768,), eps=1e-05, elementwise_affine=True)\n",
       ")"
      ]
     },
     "execution_count": 5,
     "metadata": {},
     "output_type": "execute_result"
    }
   ],
   "source": [
    "gpt_model = OpenAIGPTModel.from_pretrained('openai-gpt')\n",
    "gpt_model.eval()\n",
    "\n",
    "gpt2_model = GPT2Model.from_pretrained('gpt2')\n",
    "gpt2_model.eval()"
   ]
  },
  {
   "cell_type": "markdown",
   "id": "7250be5f",
   "metadata": {},
   "source": [
    "# Analyze Models via WeightWatcher\n",
    "To analyze the DNN without the training or testing data, we use alpha from the Power Law metric for each layer and evaluate the distribution using a histogram.\n",
    "\n",
    "#### Resources:\n",
    "* [How to Tell if You Have Trained Your Model with Enough Data](https://www.kdnuggets.com/2021/07/tell-model-trained-enough-data.html)\n",
    "* [Is Your Model Overtrained?](https://calculatedcontent.com/2021/04/04/are-your-models-overtrained/)\n",
    "* [Power Laws in Deep Learning](https://www.kdnuggets.com/2018/09/power-laws-deep-learning.html)\n",
    "* [Power Laws in Deep Learning 2: Universality](https://www.kdnuggets.com/2018/09/power-laws-deep-learning-2-universality.html)"
   ]
  },
  {
   "cell_type": "code",
   "execution_count": 6,
   "id": "dde807ea",
   "metadata": {
    "scrolled": true
   },
   "outputs": [
    {
     "name": "stderr",
     "output_type": "stream",
     "text": [
      "INFO:weightwatcher:\n",
      "\n",
      "python      version 3.7.6 (default, Jan  8 2020, 13:42:34) \n",
      "[Clang 4.0.1 (tags/RELEASE_401/final)]\n",
      "numpy       version 1.21.1\n",
      "tensforflow version 2.5.0\n",
      "keras       version 2.5.0\n",
      "INFO:weightwatcher:params {'glorot_fix': False, 'normalize': False, 'conv2d_norm': True, 'randomize': False, 'savefig': False, 'rescale': True, 'deltas': False, 'min_evals': 0, 'max_evals': None, 'plot': False, 'mp_fit': False, 'ww2x': False, 'deltaEs': False}\n",
      "INFO:weightwatcher:Layer id 1  unknown type 32 layer  Embedding(40478, 768)\n",
      "INFO:weightwatcher:Layer id 2  unknown type 32 layer  Embedding(512, 768)\n",
      "INFO:weightwatcher:LAYER: 7 4  : <class 'transformers.modeling_utils.Conv1D'>\n",
      "/Users/jonathan_novak/PycharmProjects/hello-world-weightwatcher/venv-ww/lib/python3.7/site-packages/powerlaw.py:700: RuntimeWarning: divide by zero encountered in true_divide\n",
      "  (Theoretical_CDF * (1 - Theoretical_CDF))\n",
      "/Users/jonathan_novak/PycharmProjects/hello-world-weightwatcher/venv-ww/lib/python3.7/site-packages/powerlaw.py:700: RuntimeWarning: invalid value encountered in true_divide\n",
      "  (Theoretical_CDF * (1 - Theoretical_CDF))\n",
      "INFO:weightwatcher:LAYER: 8 4  : <class 'transformers.modeling_utils.Conv1D'>\n",
      "INFO:weightwatcher:Layer id 11  Layer norm has no matrices\n",
      "INFO:weightwatcher:LAYER: 13 4  : <class 'transformers.modeling_utils.Conv1D'>\n",
      "INFO:weightwatcher:LAYER: 14 4  : <class 'transformers.modeling_utils.Conv1D'>\n",
      "INFO:weightwatcher:Layer id 16  Layer norm has no matrices\n",
      "INFO:weightwatcher:LAYER: 19 4  : <class 'transformers.modeling_utils.Conv1D'>\n",
      "INFO:weightwatcher:LAYER: 20 4  : <class 'transformers.modeling_utils.Conv1D'>\n",
      "INFO:weightwatcher:Layer id 23  Layer norm has no matrices\n",
      "INFO:weightwatcher:LAYER: 25 4  : <class 'transformers.modeling_utils.Conv1D'>\n",
      "INFO:weightwatcher:LAYER: 26 4  : <class 'transformers.modeling_utils.Conv1D'>\n",
      "INFO:weightwatcher:Layer id 28  Layer norm has no matrices\n",
      "INFO:weightwatcher:LAYER: 31 4  : <class 'transformers.modeling_utils.Conv1D'>\n",
      "INFO:weightwatcher:LAYER: 32 4  : <class 'transformers.modeling_utils.Conv1D'>\n",
      "INFO:weightwatcher:Layer id 35  Layer norm has no matrices\n",
      "INFO:weightwatcher:LAYER: 37 4  : <class 'transformers.modeling_utils.Conv1D'>\n",
      "INFO:weightwatcher:LAYER: 38 4  : <class 'transformers.modeling_utils.Conv1D'>\n",
      "INFO:weightwatcher:Layer id 40  Layer norm has no matrices\n",
      "INFO:weightwatcher:LAYER: 43 4  : <class 'transformers.modeling_utils.Conv1D'>\n",
      "INFO:weightwatcher:LAYER: 44 4  : <class 'transformers.modeling_utils.Conv1D'>\n",
      "INFO:weightwatcher:Layer id 47  Layer norm has no matrices\n",
      "INFO:weightwatcher:LAYER: 49 4  : <class 'transformers.modeling_utils.Conv1D'>\n",
      "INFO:weightwatcher:LAYER: 50 4  : <class 'transformers.modeling_utils.Conv1D'>\n",
      "INFO:weightwatcher:Layer id 52  Layer norm has no matrices\n",
      "INFO:weightwatcher:LAYER: 55 4  : <class 'transformers.modeling_utils.Conv1D'>\n",
      "INFO:weightwatcher:LAYER: 56 4  : <class 'transformers.modeling_utils.Conv1D'>\n",
      "INFO:weightwatcher:Layer id 59  Layer norm has no matrices\n",
      "INFO:weightwatcher:LAYER: 61 4  : <class 'transformers.modeling_utils.Conv1D'>\n",
      "INFO:weightwatcher:LAYER: 62 4  : <class 'transformers.modeling_utils.Conv1D'>\n",
      "INFO:weightwatcher:Layer id 64  Layer norm has no matrices\n",
      "INFO:weightwatcher:LAYER: 67 4  : <class 'transformers.modeling_utils.Conv1D'>\n",
      "INFO:weightwatcher:LAYER: 68 4  : <class 'transformers.modeling_utils.Conv1D'>\n",
      "INFO:weightwatcher:Layer id 71  Layer norm has no matrices\n",
      "INFO:weightwatcher:LAYER: 73 4  : <class 'transformers.modeling_utils.Conv1D'>\n",
      "INFO:weightwatcher:LAYER: 74 4  : <class 'transformers.modeling_utils.Conv1D'>\n",
      "INFO:weightwatcher:Layer id 76  Layer norm has no matrices\n",
      "INFO:weightwatcher:LAYER: 79 4  : <class 'transformers.modeling_utils.Conv1D'>\n",
      "INFO:weightwatcher:LAYER: 80 4  : <class 'transformers.modeling_utils.Conv1D'>\n",
      "INFO:weightwatcher:Layer id 83  Layer norm has no matrices\n",
      "INFO:weightwatcher:LAYER: 85 4  : <class 'transformers.modeling_utils.Conv1D'>\n",
      "INFO:weightwatcher:LAYER: 86 4  : <class 'transformers.modeling_utils.Conv1D'>\n",
      "INFO:weightwatcher:Layer id 88  Layer norm has no matrices\n",
      "INFO:weightwatcher:LAYER: 91 4  : <class 'transformers.modeling_utils.Conv1D'>\n",
      "INFO:weightwatcher:LAYER: 92 4  : <class 'transformers.modeling_utils.Conv1D'>\n",
      "INFO:weightwatcher:Layer id 95  Layer norm has no matrices\n",
      "INFO:weightwatcher:LAYER: 97 4  : <class 'transformers.modeling_utils.Conv1D'>\n",
      "INFO:weightwatcher:LAYER: 98 4  : <class 'transformers.modeling_utils.Conv1D'>\n",
      "INFO:weightwatcher:Layer id 100  Layer norm has no matrices\n",
      "INFO:weightwatcher:LAYER: 103 4  : <class 'transformers.modeling_utils.Conv1D'>\n",
      "INFO:weightwatcher:LAYER: 104 4  : <class 'transformers.modeling_utils.Conv1D'>\n",
      "INFO:weightwatcher:Layer id 107  Layer norm has no matrices\n",
      "INFO:weightwatcher:LAYER: 109 4  : <class 'transformers.modeling_utils.Conv1D'>\n",
      "INFO:weightwatcher:LAYER: 110 4  : <class 'transformers.modeling_utils.Conv1D'>\n",
      "INFO:weightwatcher:Layer id 112  Layer norm has no matrices\n",
      "INFO:weightwatcher:LAYER: 115 4  : <class 'transformers.modeling_utils.Conv1D'>\n",
      "INFO:weightwatcher:LAYER: 116 4  : <class 'transformers.modeling_utils.Conv1D'>\n",
      "INFO:weightwatcher:Layer id 119  Layer norm has no matrices\n",
      "INFO:weightwatcher:LAYER: 121 4  : <class 'transformers.modeling_utils.Conv1D'>\n",
      "INFO:weightwatcher:LAYER: 122 4  : <class 'transformers.modeling_utils.Conv1D'>\n",
      "INFO:weightwatcher:Layer id 124  Layer norm has no matrices\n",
      "INFO:weightwatcher:LAYER: 127 4  : <class 'transformers.modeling_utils.Conv1D'>\n",
      "INFO:weightwatcher:LAYER: 128 4  : <class 'transformers.modeling_utils.Conv1D'>\n",
      "INFO:weightwatcher:Layer id 131  Layer norm has no matrices\n",
      "INFO:weightwatcher:LAYER: 133 4  : <class 'transformers.modeling_utils.Conv1D'>\n",
      "INFO:weightwatcher:LAYER: 134 4  : <class 'transformers.modeling_utils.Conv1D'>\n",
      "INFO:weightwatcher:Layer id 136  Layer norm has no matrices\n",
      "INFO:weightwatcher:LAYER: 139 4  : <class 'transformers.modeling_utils.Conv1D'>\n",
      "INFO:weightwatcher:LAYER: 140 4  : <class 'transformers.modeling_utils.Conv1D'>\n",
      "INFO:weightwatcher:Layer id 143  Layer norm has no matrices\n",
      "INFO:weightwatcher:LAYER: 145 4  : <class 'transformers.modeling_utils.Conv1D'>\n",
      "INFO:weightwatcher:LAYER: 146 4  : <class 'transformers.modeling_utils.Conv1D'>\n",
      "INFO:weightwatcher:Layer id 148  Layer norm has no matrices\n"
     ]
    }
   ],
   "source": [
    "watcher = ww.WeightWatcher(model=gpt_model)\n",
    "gpt_details = watcher.analyze()"
   ]
  },
  {
   "cell_type": "code",
   "execution_count": 7,
   "id": "e7226833",
   "metadata": {},
   "outputs": [
    {
     "data": {
      "text/plain": [
       "<matplotlib.legend.Legend at 0x7fe561bb6350>"
      ]
     },
     "execution_count": 7,
     "metadata": {},
     "output_type": "execute_result"
    },
    {
     "data": {
      "image/png": "[encoded data removed]",
      "text/plain": [
       "<Figure size 432x288 with 1 Axes>"
      ]
     },
     "metadata": {
      "needs_background": "light"
     },
     "output_type": "display_data"
    }
   ],
   "source": [
    "gpt_details.alpha.plot.hist(bins=100, color='red', alpha=0.5, density=True, label='gpt')\n",
    "plt.xlabel(r\"alpha $(\\alpha)$ PL exponent\")\n",
    "plt.legend()"
   ]
  },
  {
   "cell_type": "markdown",
   "id": "d3e0831c",
   "metadata": {},
   "source": [
    "**Conclusion**: The alphas for the GPT model peaks at 4 which is not optimal and there are several outlier layers (alpha>6)"
   ]
  },
  {
   "cell_type": "code",
   "execution_count": 8,
   "id": "ae754cc4",
   "metadata": {
    "scrolled": true
   },
   "outputs": [
    {
     "name": "stderr",
     "output_type": "stream",
     "text": [
      "INFO:weightwatcher:\n",
      "\n",
      "python      version 3.7.6 (default, Jan  8 2020, 13:42:34) \n",
      "[Clang 4.0.1 (tags/RELEASE_401/final)]\n",
      "numpy       version 1.21.1\n",
      "tensforflow version 2.5.0\n",
      "keras       version 2.5.0\n",
      "INFO:weightwatcher:params {'glorot_fix': False, 'normalize': False, 'conv2d_norm': True, 'randomize': False, 'savefig': False, 'rescale': True, 'deltas': False, 'min_evals': 0, 'max_evals': None, 'plot': False, 'mp_fit': False, 'ww2x': False, 'deltaEs': False}\n",
      "INFO:weightwatcher:Layer id 1  unknown type 32 layer  Embedding(50257, 768)\n",
      "INFO:weightwatcher:Layer id 2  unknown type 32 layer  Embedding(1024, 768)\n",
      "INFO:weightwatcher:Layer id 6  Layer norm has no matrices\n",
      "INFO:weightwatcher:LAYER: 8 4  : <class 'transformers.modeling_utils.Conv1D'>\n",
      "INFO:weightwatcher:LAYER: 9 4  : <class 'transformers.modeling_utils.Conv1D'>\n",
      "INFO:weightwatcher:Layer id 12  Layer norm has no matrices\n",
      "INFO:weightwatcher:LAYER: 14 4  : <class 'transformers.modeling_utils.Conv1D'>\n",
      "INFO:weightwatcher:LAYER: 15 4  : <class 'transformers.modeling_utils.Conv1D'>\n",
      "INFO:weightwatcher:Layer id 18  Layer norm has no matrices\n",
      "INFO:weightwatcher:LAYER: 20 4  : <class 'transformers.modeling_utils.Conv1D'>\n",
      "INFO:weightwatcher:LAYER: 21 4  : <class 'transformers.modeling_utils.Conv1D'>\n",
      "INFO:weightwatcher:Layer id 24  Layer norm has no matrices\n",
      "INFO:weightwatcher:LAYER: 26 4  : <class 'transformers.modeling_utils.Conv1D'>\n",
      "INFO:weightwatcher:LAYER: 27 4  : <class 'transformers.modeling_utils.Conv1D'>\n",
      "INFO:weightwatcher:Layer id 30  Layer norm has no matrices\n",
      "INFO:weightwatcher:LAYER: 32 4  : <class 'transformers.modeling_utils.Conv1D'>\n",
      "INFO:weightwatcher:LAYER: 33 4  : <class 'transformers.modeling_utils.Conv1D'>\n",
      "INFO:weightwatcher:Layer id 36  Layer norm has no matrices\n",
      "INFO:weightwatcher:LAYER: 38 4  : <class 'transformers.modeling_utils.Conv1D'>\n",
      "INFO:weightwatcher:LAYER: 39 4  : <class 'transformers.modeling_utils.Conv1D'>\n",
      "INFO:weightwatcher:Layer id 42  Layer norm has no matrices\n",
      "INFO:weightwatcher:LAYER: 44 4  : <class 'transformers.modeling_utils.Conv1D'>\n",
      "INFO:weightwatcher:LAYER: 45 4  : <class 'transformers.modeling_utils.Conv1D'>\n",
      "INFO:weightwatcher:Layer id 48  Layer norm has no matrices\n",
      "INFO:weightwatcher:LAYER: 50 4  : <class 'transformers.modeling_utils.Conv1D'>\n",
      "INFO:weightwatcher:LAYER: 51 4  : <class 'transformers.modeling_utils.Conv1D'>\n",
      "INFO:weightwatcher:Layer id 54  Layer norm has no matrices\n",
      "INFO:weightwatcher:LAYER: 56 4  : <class 'transformers.modeling_utils.Conv1D'>\n",
      "INFO:weightwatcher:LAYER: 57 4  : <class 'transformers.modeling_utils.Conv1D'>\n",
      "INFO:weightwatcher:Layer id 60  Layer norm has no matrices\n",
      "INFO:weightwatcher:LAYER: 62 4  : <class 'transformers.modeling_utils.Conv1D'>\n",
      "INFO:weightwatcher:LAYER: 63 4  : <class 'transformers.modeling_utils.Conv1D'>\n",
      "INFO:weightwatcher:Layer id 66  Layer norm has no matrices\n",
      "INFO:weightwatcher:LAYER: 68 4  : <class 'transformers.modeling_utils.Conv1D'>\n",
      "INFO:weightwatcher:LAYER: 69 4  : <class 'transformers.modeling_utils.Conv1D'>\n",
      "INFO:weightwatcher:Layer id 72  Layer norm has no matrices\n",
      "INFO:weightwatcher:LAYER: 74 4  : <class 'transformers.modeling_utils.Conv1D'>\n",
      "INFO:weightwatcher:LAYER: 75 4  : <class 'transformers.modeling_utils.Conv1D'>\n",
      "INFO:weightwatcher:Layer id 78  Layer norm has no matrices\n",
      "INFO:weightwatcher:LAYER: 80 4  : <class 'transformers.modeling_utils.Conv1D'>\n",
      "/Users/jonathan_novak/PycharmProjects/hello-world-weightwatcher/venv-ww/lib/python3.7/site-packages/powerlaw.py:1178: RuntimeWarning: overflow encountered in double_scalars\n",
      "  return (self.alpha-1) * self.xmin**(self.alpha-1)\n",
      "/Users/jonathan_novak/PycharmProjects/hello-world-weightwatcher/venv-ww/lib/python3.7/site-packages/powerlaw.py:825: RuntimeWarning: invalid value encountered in multiply\n",
      "  likelihoods = f*C\n",
      "INFO:weightwatcher:LAYER: 81 4  : <class 'transformers.modeling_utils.Conv1D'>\n",
      "INFO:weightwatcher:Layer id 84  Layer norm has no matrices\n",
      "INFO:weightwatcher:LAYER: 86 4  : <class 'transformers.modeling_utils.Conv1D'>\n",
      "INFO:weightwatcher:LAYER: 87 4  : <class 'transformers.modeling_utils.Conv1D'>\n",
      "INFO:weightwatcher:Layer id 90  Layer norm has no matrices\n",
      "INFO:weightwatcher:LAYER: 92 4  : <class 'transformers.modeling_utils.Conv1D'>\n",
      "INFO:weightwatcher:LAYER: 93 4  : <class 'transformers.modeling_utils.Conv1D'>\n",
      "INFO:weightwatcher:Layer id 96  Layer norm has no matrices\n",
      "INFO:weightwatcher:LAYER: 98 4  : <class 'transformers.modeling_utils.Conv1D'>\n",
      "INFO:weightwatcher:LAYER: 99 4  : <class 'transformers.modeling_utils.Conv1D'>\n",
      "INFO:weightwatcher:Layer id 102  Layer norm has no matrices\n",
      "INFO:weightwatcher:LAYER: 104 4  : <class 'transformers.modeling_utils.Conv1D'>\n",
      "INFO:weightwatcher:LAYER: 105 4  : <class 'transformers.modeling_utils.Conv1D'>\n",
      "INFO:weightwatcher:Layer id 108  Layer norm has no matrices\n",
      "INFO:weightwatcher:LAYER: 110 4  : <class 'transformers.modeling_utils.Conv1D'>\n",
      "INFO:weightwatcher:LAYER: 111 4  : <class 'transformers.modeling_utils.Conv1D'>\n",
      "INFO:weightwatcher:Layer id 114  Layer norm has no matrices\n",
      "INFO:weightwatcher:LAYER: 116 4  : <class 'transformers.modeling_utils.Conv1D'>\n",
      "INFO:weightwatcher:LAYER: 117 4  : <class 'transformers.modeling_utils.Conv1D'>\n",
      "INFO:weightwatcher:Layer id 120  Layer norm has no matrices\n",
      "INFO:weightwatcher:LAYER: 122 4  : <class 'transformers.modeling_utils.Conv1D'>\n",
      "INFO:weightwatcher:LAYER: 123 4  : <class 'transformers.modeling_utils.Conv1D'>\n",
      "INFO:weightwatcher:Layer id 126  Layer norm has no matrices\n",
      "INFO:weightwatcher:LAYER: 128 4  : <class 'transformers.modeling_utils.Conv1D'>\n",
      "INFO:weightwatcher:LAYER: 129 4  : <class 'transformers.modeling_utils.Conv1D'>\n",
      "INFO:weightwatcher:Layer id 132  Layer norm has no matrices\n",
      "INFO:weightwatcher:LAYER: 134 4  : <class 'transformers.modeling_utils.Conv1D'>\n",
      "INFO:weightwatcher:LAYER: 135 4  : <class 'transformers.modeling_utils.Conv1D'>\n",
      "INFO:weightwatcher:Layer id 138  Layer norm has no matrices\n",
      "INFO:weightwatcher:LAYER: 140 4  : <class 'transformers.modeling_utils.Conv1D'>\n",
      "INFO:weightwatcher:LAYER: 141 4  : <class 'transformers.modeling_utils.Conv1D'>\n",
      "INFO:weightwatcher:Layer id 144  Layer norm has no matrices\n",
      "INFO:weightwatcher:LAYER: 146 4  : <class 'transformers.modeling_utils.Conv1D'>\n",
      "INFO:weightwatcher:LAYER: 147 4  : <class 'transformers.modeling_utils.Conv1D'>\n",
      "INFO:weightwatcher:Layer id 149  Layer norm has no matrices\n"
     ]
    }
   ],
   "source": [
    "watcher = ww.WeightWatcher(model=gpt2_model)\n",
    "gpt2_details = watcher.analyze()"
   ]
  },
  {
   "cell_type": "code",
   "execution_count": 9,
   "id": "8d40165e",
   "metadata": {},
   "outputs": [
    {
     "data": {
      "text/plain": [
       "<matplotlib.legend.Legend at 0x7fe5575f8510>"
      ]
     },
     "execution_count": 9,
     "metadata": {},
     "output_type": "execute_result"
    },
    {
     "data": {
      "image/png": "[encoded data removed]",
      "text/plain": [
       "<Figure size 432x288 with 1 Axes>"
      ]
     },
     "metadata": {
      "needs_background": "light"
     },
     "output_type": "display_data"
    }
   ],
   "source": [
    "gpt_details.alpha.plot.hist(bins=100, color='red', alpha=0.5, density=True, label='gpt')\n",
    "gpt2_details.alpha.plot.hist(bins=100, color='green', alpha=0.5, density=True, label='gpt2')\n",
    "plt.xlabel(r\"alpha $(\\alpha)$ PL exponent\")\n",
    "plt.legend()"
   ]
  },
  {
   "cell_type": "markdown",
   "id": "aa5856b5",
   "metadata": {},
   "source": [
    "**Conclusion**: The alphas for the GPT2 model is most frequent around 3.5 and the outliers are reduced significantly compared to the GPT model"
   ]
  }
 ],
 "metadata": {
  "kernelspec": {
   "display_name": "Python 3 (ipykernel)",
   "language": "python",
   "name": "python3"
  },
  "language_info": {
   "codemirror_mode": {
    "name": "ipython",
    "version": 3
   },
   "file_extension": ".py",
   "mimetype": "text/x-python",
   "name": "python",
   "nbconvert_exporter": "python",
   "pygments_lexer": "ipython3",
   "version": "3.7.6"
  }
 },
 "nbformat": 4,
 "nbformat_minor": 5
}
